{
 "cells": [
  {
   "cell_type": "markdown",
   "id": "d29f0aa6",
   "metadata": {},
   "source": [
    "### The Promise Monad (container)"
   ]
  },
  {
   "cell_type": "code",
   "execution_count": 1,
   "id": "482020de",
   "metadata": {},
   "outputs": [],
   "source": [
    "import pymonad"
   ]
  },
  {
   "cell_type": "code",
   "execution_count": 4,
   "id": "09f372f8",
   "metadata": {},
   "outputs": [],
   "source": [
    "from pymonad.promise import Promise, _Promise"
   ]
  },
  {
   "cell_type": "code",
   "execution_count": 5,
   "id": "4198dac0",
   "metadata": {},
   "outputs": [
    {
     "data": {
      "text/plain": [
       "<pymonad.promise._Promise at 0x10c26bf10>"
      ]
     },
     "execution_count": 5,
     "metadata": {},
     "output_type": "execute_result"
    }
   ],
   "source": [
    "Promise.insert(1)"
   ]
  },
  {
   "cell_type": "code",
   "execution_count": 6,
   "id": "ef1f292c",
   "metadata": {},
   "outputs": [
    {
     "data": {
      "text/plain": [
       "1"
      ]
     },
     "execution_count": 6,
     "metadata": {},
     "output_type": "execute_result"
    }
   ],
   "source": [
    "await Promise.insert(1)"
   ]
  },
  {
   "cell_type": "markdown",
   "id": "26372272",
   "metadata": {},
   "source": [
    "### Map Method"
   ]
  },
  {
   "cell_type": "code",
   "execution_count": 7,
   "id": "54648ba0",
   "metadata": {},
   "outputs": [],
   "source": [
    "import asyncio\n",
    "\n",
    "async def wait_and_then_add_one(x: int) -> int:\n",
    "    print(f\"before waiting {x} sec...\")\n",
    "    await asyncio.sleep(x)\n",
    "    print(f\"after waiting {x} sec...\")\n",
    "    return x+1"
   ]
  },
  {
   "cell_type": "code",
   "execution_count": 8,
   "id": "046ec953",
   "metadata": {},
   "outputs": [],
   "source": [
    "def add_one(x: int) -> int:\n",
    "    return x + 1"
   ]
  },
  {
   "cell_type": "code",
   "execution_count": 9,
   "id": "f59bfc8f",
   "metadata": {},
   "outputs": [],
   "source": [
    "p = Promise.insert(1).map(wait_and_then_add_one).map(add_one)"
   ]
  },
  {
   "cell_type": "code",
   "execution_count": 10,
   "id": "95d023b1",
   "metadata": {},
   "outputs": [
    {
     "data": {
      "text/plain": [
       "<pymonad.promise._Promise at 0x10c29ce90>"
      ]
     },
     "execution_count": 10,
     "metadata": {},
     "output_type": "execute_result"
    }
   ],
   "source": [
    "p"
   ]
  },
  {
   "cell_type": "code",
   "execution_count": 11,
   "id": "0d8b07cd",
   "metadata": {},
   "outputs": [
    {
     "name": "stdout",
     "output_type": "stream",
     "text": [
      "before waiting 1 sec...\n",
      "after waiting 1 sec...\n",
      "before waiting 2 sec...\n",
      "after waiting 2 sec...\n"
     ]
    },
    {
     "data": {
      "text/plain": [
       "3"
      ]
     },
     "execution_count": 11,
     "metadata": {},
     "output_type": "execute_result"
    }
   ],
   "source": [
    "await Promise.insert(1).map(wait_and_then_add_one).map(wait_and_then_add_one)"
   ]
  },
  {
   "cell_type": "markdown",
   "id": "a067ac63",
   "metadata": {},
   "source": [
    "### Bind method"
   ]
  },
  {
   "cell_type": "code",
   "execution_count": 12,
   "id": "a7255e93",
   "metadata": {},
   "outputs": [],
   "source": [
    "def generate_new_promise(x: int) -> _Promise[int]:\n",
    "    print(\"generating a new promise\")\n",
    "    return Promise.insert(x).map(wait_and_then_add_one)"
   ]
  },
  {
   "cell_type": "code",
   "execution_count": 13,
   "id": "4f83a98c",
   "metadata": {},
   "outputs": [],
   "source": [
    "p = Promise.insert(1).bind(generate_new_promise)"
   ]
  },
  {
   "cell_type": "code",
   "execution_count": 14,
   "id": "d79a20aa",
   "metadata": {},
   "outputs": [
    {
     "name": "stdout",
     "output_type": "stream",
     "text": [
      "generating a new promise\n",
      "before waiting 1 sec...\n",
      "after waiting 1 sec...\n"
     ]
    },
    {
     "data": {
      "text/plain": [
       "2"
      ]
     },
     "execution_count": 14,
     "metadata": {},
     "output_type": "execute_result"
    }
   ],
   "source": [
    "await p"
   ]
  },
  {
   "cell_type": "markdown",
   "id": "f992526c",
   "metadata": {},
   "source": [
    "### Then method "
   ]
  },
  {
   "cell_type": "code",
   "execution_count": 15,
   "id": "369ee6e6",
   "metadata": {},
   "outputs": [
    {
     "name": "stdout",
     "output_type": "stream",
     "text": [
      "generating a new promise\n",
      "before waiting 1 sec...\n",
      "after waiting 1 sec...\n",
      "before waiting 2 sec...\n",
      "after waiting 2 sec...\n"
     ]
    },
    {
     "data": {
      "text/plain": [
       "3"
      ]
     },
     "execution_count": 15,
     "metadata": {},
     "output_type": "execute_result"
    }
   ],
   "source": [
    "await Promise.insert(1).then(generate_new_promise).then(wait_and_then_add_one)"
   ]
  },
  {
   "cell_type": "markdown",
   "id": "db4bd85e",
   "metadata": {},
   "source": [
    "### Catching Exception"
   ]
  },
  {
   "cell_type": "code",
   "execution_count": 16,
   "id": "16dbc360",
   "metadata": {},
   "outputs": [],
   "source": [
    "def raise_exception_when_too_large(upper_bound: int):\n",
    "    def wrapper(value: int):\n",
    "        if value > upper_bound:\n",
    "            raise ValueError(f\"Too large. Value must be lower than {upper_bound}\")\n",
    "        return value\n",
    "    return wrapper"
   ]
  },
  {
   "cell_type": "code",
   "execution_count": 17,
   "id": "f8bd448a",
   "metadata": {},
   "outputs": [],
   "source": [
    "max_limit = 2"
   ]
  },
  {
   "cell_type": "code",
   "execution_count": 18,
   "id": "b6322b4f",
   "metadata": {},
   "outputs": [],
   "source": [
    "p = Promise.insert(1)\\\n",
    "        .then(generate_new_promise)\\\n",
    "        .then(wait_and_then_add_one)\\\n",
    "        .then(raise_exception_when_too_large(2))"
   ]
  },
  {
   "cell_type": "code",
   "execution_count": 19,
   "id": "6eb5cdfe",
   "metadata": {},
   "outputs": [
    {
     "name": "stdout",
     "output_type": "stream",
     "text": [
      "generating a new promise\n",
      "before waiting 1 sec...\n",
      "after waiting 1 sec...\n",
      "before waiting 2 sec...\n",
      "after waiting 2 sec...\n"
     ]
    },
    {
     "ename": "ValueError",
     "evalue": "Too large. Value must be lower than 2",
     "output_type": "error",
     "traceback": [
      "\u001b[0;31m---------------------------------------------------------------------------\u001b[0m",
      "\u001b[0;31mValueError\u001b[0m                                Traceback (most recent call last)",
      "\u001b[0;32m<ipython-input-19-b74e1a80ad7c>\u001b[0m in \u001b[0;36masync-def-wrapper\u001b[0;34m()\u001b[0m\n",
      "\u001b[0;32m~/.pyenv/versions/3.7.6/envs/async/lib/python3.7/site-packages/pymonad/promise.py\u001b[0m in \u001b[0;36m_then\u001b[0;34m(resolve, _)\u001b[0m\n\u001b[1;32m    190\u001b[0m         \u001b[0;32melse\u001b[0m\u001b[0;34m:\u001b[0m\u001b[0;34m\u001b[0m\u001b[0;34m\u001b[0m\u001b[0m\n\u001b[1;32m    191\u001b[0m             \u001b[0;32masync\u001b[0m \u001b[0;32mdef\u001b[0m \u001b[0m_then\u001b[0m\u001b[0;34m(\u001b[0m\u001b[0mresolve\u001b[0m\u001b[0;34m,\u001b[0m \u001b[0m_\u001b[0m\u001b[0;34m)\u001b[0m\u001b[0;34m:\u001b[0m\u001b[0;34m\u001b[0m\u001b[0;34m\u001b[0m\u001b[0m\n\u001b[0;32m--> 192\u001b[0;31m                 \u001b[0mresult\u001b[0m \u001b[0;34m=\u001b[0m \u001b[0mfunction\u001b[0m\u001b[0;34m(\u001b[0m\u001b[0;32mawait\u001b[0m \u001b[0mself\u001b[0m\u001b[0;34m)\u001b[0m\u001b[0;34m\u001b[0m\u001b[0;34m\u001b[0m\u001b[0m\n\u001b[0m\u001b[1;32m    193\u001b[0m                 \u001b[0;32mtry\u001b[0m\u001b[0;34m:\u001b[0m\u001b[0;34m\u001b[0m\u001b[0;34m\u001b[0m\u001b[0m\n\u001b[1;32m    194\u001b[0m                     \u001b[0;32mreturn\u001b[0m \u001b[0mresolve\u001b[0m\u001b[0;34m(\u001b[0m\u001b[0;32mawait\u001b[0m \u001b[0mresult\u001b[0m\u001b[0;34m)\u001b[0m\u001b[0;34m\u001b[0m\u001b[0;34m\u001b[0m\u001b[0m\n",
      "\u001b[0;32m<ipython-input-16-7385d004f115>\u001b[0m in \u001b[0;36mwrapper\u001b[0;34m(value)\u001b[0m\n\u001b[1;32m      2\u001b[0m     \u001b[0;32mdef\u001b[0m \u001b[0mwrapper\u001b[0m\u001b[0;34m(\u001b[0m\u001b[0mvalue\u001b[0m\u001b[0;34m:\u001b[0m \u001b[0mint\u001b[0m\u001b[0;34m)\u001b[0m\u001b[0;34m:\u001b[0m\u001b[0;34m\u001b[0m\u001b[0;34m\u001b[0m\u001b[0m\n\u001b[1;32m      3\u001b[0m         \u001b[0;32mif\u001b[0m \u001b[0mvalue\u001b[0m \u001b[0;34m>\u001b[0m \u001b[0mupper_bound\u001b[0m\u001b[0;34m:\u001b[0m\u001b[0;34m\u001b[0m\u001b[0;34m\u001b[0m\u001b[0m\n\u001b[0;32m----> 4\u001b[0;31m             \u001b[0;32mraise\u001b[0m \u001b[0mValueError\u001b[0m\u001b[0;34m(\u001b[0m\u001b[0;34mf\"Too large. Value must be lower than {upper_bound}\"\u001b[0m\u001b[0;34m)\u001b[0m\u001b[0;34m\u001b[0m\u001b[0;34m\u001b[0m\u001b[0m\n\u001b[0m\u001b[1;32m      5\u001b[0m         \u001b[0;32mreturn\u001b[0m \u001b[0mvalue\u001b[0m\u001b[0;34m\u001b[0m\u001b[0;34m\u001b[0m\u001b[0m\n\u001b[1;32m      6\u001b[0m     \u001b[0;32mreturn\u001b[0m \u001b[0mwrapper\u001b[0m\u001b[0;34m\u001b[0m\u001b[0;34m\u001b[0m\u001b[0m\n",
      "\u001b[0;31mValueError\u001b[0m: Too large. Value must be lower than 2"
     ]
    }
   ],
   "source": [
    "await p"
   ]
  },
  {
   "cell_type": "code",
   "execution_count": 20,
   "id": "3f96b765",
   "metadata": {},
   "outputs": [],
   "source": [
    "def resetting_to_upper_bound(upper_bound: int):\n",
    "    def wrapper(e: Exception):\n",
    "        print(f\"Raised Exception: {e} \\n Falling back to {upper_bound}\")\n",
    "        return upper_bound\n",
    "    return wrapper"
   ]
  },
  {
   "cell_type": "code",
   "execution_count": 21,
   "id": "3ef0d6c4",
   "metadata": {},
   "outputs": [],
   "source": [
    "safe_p = p = Promise.insert(1)\\\n",
    "        .then(generate_new_promise)\\\n",
    "        .then(raise_exception_when_too_large(1))\\\n",
    "        .then(wait_and_then_add_one)\\\n",
    "        .catch(resetting_to_upper_bound(max_limit))"
   ]
  },
  {
   "cell_type": "code",
   "execution_count": 22,
   "id": "a2ae9bd3",
   "metadata": {},
   "outputs": [
    {
     "name": "stdout",
     "output_type": "stream",
     "text": [
      "generating a new promise\n",
      "before waiting 1 sec...\n",
      "after waiting 1 sec...\n",
      "Raised Exception: Too large. Value must be lower than 1 \n",
      " Falling back to 2\n"
     ]
    },
    {
     "data": {
      "text/plain": [
       "2"
      ]
     },
     "execution_count": 22,
     "metadata": {},
     "output_type": "execute_result"
    }
   ],
   "source": [
    "await safe_p"
   ]
  },
  {
   "cell_type": "markdown",
   "id": "65a7384d",
   "metadata": {},
   "source": [
    "### Compose Promises"
   ]
  },
  {
   "cell_type": "code",
   "execution_count": 24,
   "id": "9b711b8d",
   "metadata": {},
   "outputs": [],
   "source": [
    "from pymonad.promise import async_func\n",
    "\n",
    "@async_func\n",
    "def my_func(x: int, y: int = 1, z: int = 1):\n",
    "    return (x + 2*y)/z"
   ]
  },
  {
   "cell_type": "code",
   "execution_count": 29,
   "id": "1fa2aaa1",
   "metadata": {},
   "outputs": [],
   "source": [
    "async def fakeComputation(x):\n",
    "    print(f\"Computation with {x} started\")\n",
    "    await asyncio.sleep(x)\n",
    "    print(f\"Computation with {x} done\")\n",
    "    return x"
   ]
  },
  {
   "cell_type": "code",
   "execution_count": 34,
   "id": "945c1c86",
   "metadata": {},
   "outputs": [],
   "source": [
    "x = Promise.insert(1).map(fakeComputation)\n",
    "\n",
    "y = Promise.insert(2).map(fakeComputation)\n",
    "\n",
    "z = Promise.insert(3).map(fakeComputation)\n",
    "\n",
    "promiseSum = my_func(x, y=1, z=z)\n",
    "\n",
    "final_result = promiseSum.map(fakeComputation)"
   ]
  },
  {
   "cell_type": "code",
   "execution_count": 35,
   "id": "42db0510",
   "metadata": {},
   "outputs": [
    {
     "name": "stdout",
     "output_type": "stream",
     "text": [
      "Computation with 1 started\n",
      "Computation with 3 started\n",
      "Computation with 1 done\n",
      "Computation with 3 done\n",
      "Computation with 1.0 started\n",
      "Computation with 1.0 done\n"
     ]
    },
    {
     "data": {
      "text/plain": [
       "1.0"
      ]
     },
     "execution_count": 35,
     "metadata": {},
     "output_type": "execute_result"
    }
   ],
   "source": [
    "await final_result"
   ]
  },
  {
   "cell_type": "code",
   "execution_count": null,
   "id": "7e4794b6",
   "metadata": {},
   "outputs": [],
   "source": []
  }
 ],
 "metadata": {
  "kernelspec": {
   "display_name": "async",
   "language": "python",
   "name": "async"
  },
  "language_info": {
   "codemirror_mode": {
    "name": "ipython",
    "version": 3
   },
   "file_extension": ".py",
   "mimetype": "text/x-python",
   "name": "python",
   "nbconvert_exporter": "python",
   "pygments_lexer": "ipython3",
   "version": "3.7.6"
  }
 },
 "nbformat": 4,
 "nbformat_minor": 5
}
